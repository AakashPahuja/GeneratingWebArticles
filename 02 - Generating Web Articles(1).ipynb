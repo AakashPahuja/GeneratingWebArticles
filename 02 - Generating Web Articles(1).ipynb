{
 "cells": [
  {
   "cell_type": "markdown",
   "metadata": {},
   "source": [
    "# Classifying Web Articles using NYTime API\n",
    "\n",
    "In this lecture we will retrieve 100 articles from Art & Sports (50 documents in each category) and we will train a classifier to identify specific lexicon in each category so to automatically categorize new documents.\n",
    "\n",
    "1. Generate Training Set"
   ]
  },
  {
   "cell_type": "code",
   "execution_count": 1,
   "metadata": {
    "collapsed": true
   },
   "outputs": [],
   "source": [
    "import time\n",
    "import urllib.request\n",
    "import json\n",
    "from nytimesarticle import articleAPI"
   ]
  },
  {
   "cell_type": "code",
   "execution_count": 2,
   "metadata": {},
   "outputs": [],
   "source": [
    "api_key='65e6563256a340f5842cf5b6af85c8d5'\n",
    "api = articleAPI(api_key)\n",
    "trainingFolder = 'C:\\\\tmp\\\\'\n",
    "sampleSize = 5 #Number of pages included. Normally each page contains 10 articles.\n",
    "\n",
    "#Functions are a modification of code made available by Rochelle Terman\n",
    "#http://dlab.berkeley.edu/blog/scraping-new-york-times-articles-python-tutorial\n",
    "\n",
    "def get_nytarticles(sampleSize,query,category,year):\n",
    "    all_articles = []\n",
    "\n",
    "    #Set date range (all year)\n",
    "    dt_from = year+\"0101\"\n",
    "    dt_to = year+\"1231\"\n",
    "    \n",
    "    #Set basic URL\n",
    "    url = \"https://api.nytimes.com/svc/search/v2/articlesearch.json?\"\n",
    "    \n",
    "    #Adding parameters\n",
    "    url=url+\"api-key=\"+api_key\n",
    "    url=url+\"&fq=news_desk:'\"+category+\"'\"\n",
    "    url=url+\"&begin_date=\"\n",
    "    url=url+dt_from\n",
    "    url=url+\"&end_date=\"+dt_to\n",
    "    url=url+\"&sort:newest\"\n",
    "\n",
    "    #NYT limits pager to first 100 pages. But rarely will you find over 100 pages of results anyway.\n",
    "    for i in range(1,sampleSize+1):\n",
    "        print ('generating %s batch of articles [%s] ...' % (category,i))\n",
    "        \n",
    "        #Adding paging information\n",
    "        response = urllib.request.urlopen(url+\"&page=\"+str(i))\n",
    "        articles = json.loads(response.read())\n",
    "        articles = parse_articles(articles)\n",
    "        all_articles = all_articles + articles\n",
    "        \n",
    "        # Sleep 1 second to avoid \"Exceeded Request Quota\" error\n",
    "        time.sleep(1)\n",
    "    \n",
    "    return(all_articles)\n",
    "\n",
    "\n",
    "def parse_articles(articles):\n",
    "    '''\n",
    "    This function takes in a response to the NYT api and parses\n",
    "    the articles into a list of dictionaries\n",
    "    '''\n",
    "    news = []\n",
    "    #print(articles)\n",
    "    for i in articles['response']['docs']:\n",
    "        dic = {}\n",
    "        dic['id'] = i['_id']\n",
    "        if 'abstract' in i and i['abstract'] is not None:\n",
    "            dic['abstract'] = i['abstract'].encode(\"utf8\")\n",
    "        dic['headline'] = i['headline']['main'].encode(\"utf8\")\n",
    "        dic['desk'] = i['new_desk']\n",
    "        dic['date'] = i['pub_date'][0:10] # cutting time of day.\n",
    "        if ('section_name' in i):\n",
    "            dic['section'] = i['section_name']\n",
    "        if i['snippet'] is not None:\n",
    "            dic['snippet'] = i['snippet'].encode(\"utf8\")\n",
    "        dic['source'] = i['source']\n",
    "        dic['type'] = i['type_of_material']\n",
    "        dic['url'] = i['web_url']\n",
    "        if ('word_count' in i):\n",
    "            dic['word_count'] = i['word_count']\n",
    "        # locations\n",
    "        locations = []\n",
    "        for x in range(0,len(i['keywords'])):\n",
    "            if 'glocations' in i['keywords'][x]['name']:\n",
    "                locations.append(i['keywords'][x]['value'])\n",
    "        dic['locations'] = locations\n",
    "        # subject\n",
    "        subjects = []\n",
    "        for x in range(0,len(i['keywords'])):\n",
    "            if 'subject' in i['keywords'][x]['name']:\n",
    "                subjects.append(i['keywords'][x]['value'])\n",
    "        dic['subjects'] = subjects   \n",
    "        news.append(dic)\n",
    "    return(news) \n",
    "\n",
    "def get_articles(sampleSize,query,category,year):\n",
    "    '''\n",
    "    This function accepts a year in string format (e.g.'1980')\n",
    "    and a query (e.g.'Amnesty International') and it will \n",
    "    return a list of parsed articles (in dictionaries)\n",
    "    for that year.\n",
    "    '''\n",
    "    all_articles = []\n",
    "    for i in range(0,sampleSize): #NYT limits pager to first 100 pages. But rarely will you find over 100 pages of results anyway.\n",
    "        print ('generating %s block ...' % i)\n",
    "        articles = api.search(q = query,\n",
    "                              fq = {'news_desk':category},\n",
    "                              begin_date = year + '0101',\n",
    "                              end_date = year + '1231',\n",
    "                              sort ='newest',\n",
    "                              page = str(i))\n",
    "        articles = parse_articles(articles)\n",
    "        all_articles = all_articles + articles\n",
    "        # Sleep 1 second to avoid \"Exceeded Request Quota\" error\n",
    "        time.sleep(1)\n",
    "    return(all_articles)\n",
    "\n",
    "def testAPI(query,category):\n",
    "    content = []\n",
    "    #arts =  get_articles(1,query,category,'2016')\n",
    "    arts =  get_nytarticles(1,query,category,'2016')\n",
    "    print (arts)"
   ]
  },
  {
   "cell_type": "markdown",
   "metadata": {},
   "source": [
    "Testing the API"
   ]
  },
  {
   "cell_type": "code",
   "execution_count": 3,
   "metadata": {},
   "outputs": [
    {
     "name": "stdout",
     "output_type": "stream",
     "text": [
      "generating ARTS batch of articles [1] ...\n",
      "[{'id': '586562d695d0e039260783cf', 'headline': b'4 Trailers That Have Us Excited for 2017', 'desk': 'Arts&Leisure', 'date': '2016-12-29', 'snippet': b'The films \\xe2\\x80\\x9cFifty Shades Darker,\\xe2\\x80\\x9d \\xe2\\x80\\x9cLogan,\\xe2\\x80\\x9d \\xe2\\x80\\x9cThe Circle\\xe2\\x80\\x9d and \\xe2\\x80\\x9cSnatched\\xe2\\x80\\x9d have notable previews.', 'source': 'The New York Times', 'type': 'News', 'url': 'https://www.nytimes.com/2016/12/29/movies/trailers-fifty-shades-logan-the-circle-snatched.html', 'word_count': 1039, 'locations': [], 'subjects': ['Movies']}, {'id': '58653c9a95d0e03926078372', 'headline': b'August Wilson\\xe2\\x80\\x99s \\xe2\\x80\\x98Jitney\\xe2\\x80\\x99 at Manhattan Theater Club', 'desk': 'Arts&Leisure', 'date': '2016-12-29', 'snippet': b'The play, directed by Ruben Santiago-Hudson, focuses on a father-son relationship in a story about gypsy-cab drivers.', 'source': 'The New York Times', 'type': 'News', 'url': 'https://www.nytimes.com/2016/12/29/theater/august-wilsons-jitney-at-manhattan-theater-club.html', 'word_count': 152, 'locations': [], 'subjects': ['Theater']}, {'id': '586539b295d0e0392607836a', 'headline': b'Yeah, Life Is Very Sunny for Kaitlin Olson', 'desk': 'Arts&Leisure', 'date': '2016-12-29', 'section': 'Television', 'snippet': b'Ms. Olson is still holding down her bartending job on \\xe2\\x80\\x9cIt\\xe2\\x80\\x99s Always Sunny in Philadelphia,\\xe2\\x80\\x9d but she\\xe2\\x80\\x99s also the star of the new Fox comedy \\xe2\\x80\\x9cThe Mick.\\xe2\\x80\\x9d', 'source': 'The New York Times', 'type': 'News', 'url': 'https://www.nytimes.com/2016/12/29/arts/television/yeah-life-is-very-sunny-for-kaitlin-olson.html', 'word_count': 807, 'locations': [], 'subjects': ['Television', 'Actors and Actresses']}, {'id': '586508f895d0e039260782f9', 'headline': b'Inside the Actors\\xe2\\x80\\x99 Dream Studio', 'desk': 'Arts&Leisure', 'date': '2016-12-29', 'snippet': b'Actors talk about when their onstage roles become entwined with their dream lives.', 'source': 'The New York Times', 'type': 'News', 'url': 'https://www.nytimes.com/2016/12/29/theater/inside-the-actors-dream-studio.html', 'word_count': 1585, 'locations': [], 'subjects': ['Theater', 'Dreams']}, {'id': '5864506495d0e039260781b7', 'headline': b'With \\xe2\\x80\\x98Star,\\xe2\\x80\\x99 Lee Daniels Tries to Expand an Empire', 'desk': 'Arts&Leisure', 'date': '2016-12-28', 'section': 'Television', 'snippet': b'In his new TV series, Mr. Daniels hopes to tell a socially conscious story about a girl group that\\xe2\\x80\\x99s different from his music-business melodrama \\xe2\\x80\\x9cEmpire.\\xe2\\x80\\x9d', 'source': 'The New York Times', 'type': 'News', 'url': 'https://www.nytimes.com/2016/12/28/arts/television/lee-daniels-fox-star-empire.html', 'word_count': 1563, 'locations': [], 'subjects': ['Television', 'Pop and Rock Music']}, {'id': '5864198895d0e03926078148', 'headline': b'Pop Quiz: Do You Know the Biggest Songs of 2016?', 'desk': 'Arts / Music', 'date': '2016-12-28', 'section': 'Music', 'snippet': b'The year\\xe2\\x80\\x99s pop hits have been streamed hundreds of millions of times: Can you name them?', 'source': 'The New York Times', 'type': 'Interactive Feature', 'url': 'https://www.nytimes.com/interactive/2016/12/28/arts/music/2016-pop-music-quiz.html', 'word_count': 0, 'locations': [], 'subjects': ['Pop and Rock Music']}, {'id': '5863eac995d0e039260780d5', 'headline': b'The xx Lets the Sunshine In', 'desk': 'Arts&Leisure', 'date': '2016-12-28', 'section': 'Music', 'snippet': b'The British band, which grew out of whispery songs its members recorded at home as teenagers, features more mature, confident sounds on its first album since 2012.', 'source': 'The New York Times', 'type': 'News', 'url': 'https://www.nytimes.com/2016/12/28/arts/music/the-xx-i-see-you-interview.html', 'word_count': 2257, 'locations': [], 'subjects': ['Music']}, {'id': '5863d37d95d0e0392607809c', 'headline': b'Adam Driver Takes the Wheel', 'desk': 'Arts&Leisure', 'date': '2016-12-28', 'snippet': b'This reigning screen philosopher plays a bus driver who composes poetry in \\xe2\\x80\\x9cPaterson\\xe2\\x80\\x9d and a 17th-century Jesuit priest in \\xe2\\x80\\x9cSilence.\\xe2\\x80\\x9d', 'source': 'The New York Times', 'type': 'News', 'url': 'https://www.nytimes.com/2016/12/28/movies/adam-driver-interview-paterson-silence.html', 'word_count': 1369, 'locations': [], 'subjects': ['Actors and Actresses', 'Movies']}, {'id': '5862f75a95d0e03926077f63', 'headline': b'A New Day for Gay Plays?', 'desk': 'Arts&Leisure', 'date': '2016-12-27', 'snippet': b'Old themes are still explored, but the context has changed.', 'source': 'The New York Times', 'type': 'News', 'url': 'https://www.nytimes.com/2016/12/27/theater/a-new-day-for-gay-plays.html', 'word_count': 1586, 'locations': [], 'subjects': ['Theater', 'Homosexuality and Bisexuality']}, {'id': '5862d2e995d0e03926077f1d', 'headline': b'Dressing Up as Princess Leia: Share Your Photos', 'desk': 'Arts', 'date': '2016-12-27', 'snippet': b'Did you or a family member ever dress up as Princess Leia? We\\xe2\\x80\\x99d like to see your photos and the story behind them.', 'source': 'The New York Times', 'type': 'Interactive Feature', 'url': 'https://www.nytimes.com/interactive/2016/12/27/arts/princess-leia-photos.html', 'word_count': 0, 'locations': [], 'subjects': []}]\n"
     ]
    }
   ],
   "source": [
    "testAPI(\"the\",\"ARTS\")"
   ]
  },
  {
   "cell_type": "markdown",
   "metadata": {},
   "source": [
    "Utility Methods to generate training sets"
   ]
  },
  {
   "cell_type": "code",
   "execution_count": 4,
   "metadata": {},
   "outputs": [],
   "source": [
    "def generateTrainingSet(size,category,year):\n",
    "    articles = get_nytarticles(size,\"the\",category,year)\n",
    "    fileName = \"C:\\\\tmp\\\\training_\"+category.lower()\n",
    "    f = open(fileName, 'w')\n",
    "    text = ''\n",
    "    \n",
    "    for doc in articles:\n",
    "        try:\n",
    "            if 'abstract' in doc:\n",
    "                # Get the abstract\n",
    "                text = doc['abstract']\n",
    "            elif 'snippet' in doc:\n",
    "                text = doc['snippet']\n",
    "\n",
    "            #Remove tabs\n",
    "            text = str(text,'utf-8')\n",
    "            text=text.replace('\\t',' ')\n",
    "            f.write('%s\\n' % text)\n",
    "        except:\n",
    "            print(\"Error Occured: ignoring ...\")\n",
    "    \n",
    "    f.close()"
   ]
  },
  {
   "cell_type": "markdown",
   "metadata": {},
   "source": [
    "Generate Training sets for ARTS and SPORTS"
   ]
  },
  {
   "cell_type": "code",
   "execution_count": 5,
   "metadata": {},
   "outputs": [
    {
     "name": "stdout",
     "output_type": "stream",
     "text": [
      "generating Arts batch of articles [1] ...\n",
      "generating Arts batch of articles [2] ...\n",
      "generating Arts batch of articles [3] ...\n",
      "generating Arts batch of articles [4] ...\n",
      "generating Arts batch of articles [5] ...\n",
      "generating Arts batch of articles [6] ...\n",
      "generating Arts batch of articles [7] ...\n",
      "generating Arts batch of articles [8] ...\n",
      "generating Arts batch of articles [9] ...\n",
      "generating Arts batch of articles [10] ...\n",
      "generating Arts batch of articles [11] ...\n",
      "generating Arts batch of articles [12] ...\n",
      "generating Arts batch of articles [13] ...\n",
      "generating Arts batch of articles [14] ...\n",
      "generating Arts batch of articles [15] ...\n",
      "generating Arts batch of articles [16] ...\n",
      "generating Arts batch of articles [17] ...\n",
      "generating Arts batch of articles [18] ...\n",
      "generating Arts batch of articles [19] ...\n",
      "generating Arts batch of articles [20] ...\n",
      "Error Occured: ignoring ...\n",
      "generating Sports batch of articles [1] ...\n",
      "generating Sports batch of articles [2] ...\n",
      "generating Sports batch of articles [3] ...\n",
      "generating Sports batch of articles [4] ...\n",
      "generating Sports batch of articles [5] ...\n",
      "generating Sports batch of articles [6] ...\n",
      "generating Sports batch of articles [7] ...\n",
      "generating Sports batch of articles [8] ...\n",
      "generating Sports batch of articles [9] ...\n",
      "generating Sports batch of articles [10] ...\n",
      "generating Sports batch of articles [11] ...\n",
      "generating Sports batch of articles [12] ...\n",
      "generating Sports batch of articles [13] ...\n",
      "generating Sports batch of articles [14] ...\n",
      "generating Sports batch of articles [15] ...\n",
      "generating Sports batch of articles [16] ...\n",
      "generating Sports batch of articles [17] ...\n",
      "generating Sports batch of articles [18] ...\n",
      "generating Sports batch of articles [19] ...\n",
      "generating Sports batch of articles [20] ...\n"
     ]
    }
   ],
   "source": [
    "generateTrainingSet(20,\"Arts\",\"2017\")\n",
    "generateTrainingSet(20,\"Sports\",\"2017\")"
   ]
  },
  {
   "cell_type": "code",
   "execution_count": null,
   "metadata": {
    "collapsed": true
   },
   "outputs": [],
   "source": []
  }
 ],
 "metadata": {
  "anaconda-cloud": {},
  "kernelspec": {
   "display_name": "Python 3",
   "language": "python",
   "name": "python3"
  },
  "language_info": {
   "codemirror_mode": {
    "name": "ipython",
    "version": 3
   },
   "file_extension": ".py",
   "mimetype": "text/x-python",
   "name": "python",
   "nbconvert_exporter": "python",
   "pygments_lexer": "ipython3",
   "version": "3.6.1"
  }
 },
 "nbformat": 4,
 "nbformat_minor": 1
}
